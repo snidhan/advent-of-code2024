{
 "cells": [
  {
   "cell_type": "markdown",
   "metadata": {},
   "source": [
    "### Part 1"
   ]
  },
  {
   "cell_type": "code",
   "execution_count": 15,
   "metadata": {},
   "outputs": [
    {
     "name": "stdout",
     "output_type": "stream",
     "text": [
      "1651298\n"
     ]
    }
   ],
   "source": [
    "list1 = []\n",
    "list2 = []\n",
    "with open(\"inp_day1.txt\", \"r\") as file:\n",
    "    for line in file:\n",
    "        val1, val2 = line.split()\n",
    "        list1.append(int(val1))\n",
    "        list2.append(int(val2))\n",
    "list1.sort()\n",
    "list2.sort()\n",
    "output = 0\n",
    "for _, (num1, num2) in enumerate(zip(list1, list2)):\n",
    "    output += abs(num2-num1)\n",
    "print(output)"
   ]
  },
  {
   "cell_type": "markdown",
   "metadata": {},
   "source": [
    "### Part 2"
   ]
  },
  {
   "cell_type": "code",
   "execution_count": null,
   "metadata": {},
   "outputs": [
    {
     "data": {
      "text/plain": [
       "1651298"
      ]
     },
     "execution_count": 14,
     "metadata": {},
     "output_type": "execute_result"
    }
   ],
   "source": [
    "dict1 = {}\n",
    "for num in list1:\n",
    "    if num not in dict1.keys():\n",
    "        dict1[num] = 1\n",
    "    else:\n",
    "        dict1[num] += 1\n",
    "\n",
    "dict2 = {}\n",
    "for num in list2:\n",
    "    if num not in dict2.keys():\n",
    "        dict2[num] = 1\n",
    "    else:\n",
    "        dict2[num] += 1\n",
    "\n",
    "sc = 0\n",
    "for key in dict1.keys():\n",
    "    if key in dict2.keys():\n",
    "        sc += key*dict1[key]*dict2[key]\n",
    "return sc\n",
    "\n"
   ]
  }
 ],
 "metadata": {
  "kernelspec": {
   "display_name": "base",
   "language": "python",
   "name": "python3"
  },
  "language_info": {
   "codemirror_mode": {
    "name": "ipython",
    "version": 3
   },
   "file_extension": ".py",
   "mimetype": "text/x-python",
   "name": "python",
   "nbconvert_exporter": "python",
   "pygments_lexer": "ipython3",
   "version": "3.9.7"
  }
 },
 "nbformat": 4,
 "nbformat_minor": 2
}
