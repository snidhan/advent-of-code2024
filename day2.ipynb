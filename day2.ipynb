{
 "cells": [
  {
   "cell_type": "code",
   "execution_count": null,
   "metadata": {},
   "outputs": [],
   "source": [
    "lists = []\n",
    "with open(\"./inp_day2.txt\", \"r\") as file:\n",
    "    for line in file:\n",
    "        # Split each line by spaces, convert each element to int, and append to the main list\n",
    "        lists.append([int(num) for num in line.split()])"
   ]
  },
  {
   "cell_type": "markdown",
   "metadata": {},
   "source": [
    "### Part 1"
   ]
  },
  {
   "cell_type": "code",
   "execution_count": null,
   "metadata": {},
   "outputs": [],
   "source": [
    "def check_diff_validity(diff):\n",
    "    if abs(diff) < 1 or abs(diff) > 3:\n",
    "        return False\n",
    "    return True\n",
    "\n",
    "safe_levels = 0\n",
    "for list in lists:\n",
    "    first_diff = list[1] - list[0]\n",
    "    if check_diff_validity(first_diff):\n",
    "        sign = first_diff / abs(first_diff)\n",
    "        flag = True\n",
    "        for i in range(1, len(list) - 1):\n",
    "            new_diff = list[i + 1] - list[i]\n",
    "            if check_diff_validity(new_diff):\n",
    "                if new_diff / abs(new_diff) == sign:\n",
    "                    continue\n",
    "                else:\n",
    "                    flag = False\n",
    "                    break\n",
    "            else:\n",
    "                flag = False\n",
    "                break\n",
    "        if flag:\n",
    "            safe_levels += 1\n",
    "    else:\n",
    "        continue"
   ]
  },
  {
   "cell_type": "code",
   "execution_count": null,
   "metadata": {},
   "outputs": [],
   "source": [
    "safe_levels = 0\n",
    "for list in lists:\n",
    "    diff = list[1:] - list[0:-1]\n",
    "    problematic_idx = []\n",
    "    for i in range(len(diff)):\n",
    "        if len(problematic_idx) > 1:\n",
    "            break\n",
    "        \n",
    "        if diff[i] == 0:\n",
    "            problematic_idx.append(i)\n",
    "        else:\n",
    "            si\n",
    "\n",
    "        \n",
    "    "
   ]
  }
 ],
 "metadata": {
  "kernelspec": {
   "display_name": "base",
   "language": "python",
   "name": "python3"
  },
  "language_info": {
   "codemirror_mode": {
    "name": "ipython",
    "version": 3
   },
   "file_extension": ".py",
   "mimetype": "text/x-python",
   "name": "python",
   "nbconvert_exporter": "python",
   "pygments_lexer": "ipython3",
   "version": "3.9.7"
  }
 },
 "nbformat": 4,
 "nbformat_minor": 2
}
