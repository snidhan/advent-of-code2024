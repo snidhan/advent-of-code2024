{
 "cells": [
  {
   "cell_type": "markdown",
   "metadata": {},
   "source": [
    "### Part 1"
   ]
  },
  {
   "cell_type": "code",
   "execution_count": null,
   "metadata": {},
   "outputs": [
    {
     "name": "stdout",
     "output_type": "stream",
     "text": [
      "1651298\n"
     ]
    }
   ],
   "source": [
    "list1 = []\n",
    "list2 = []\n",
    "with open(\"inp_day1.txt\", \"r\") as file: # Space complexity O(n)\n",
    "    for line in file: \n",
    "        val1, val2 = line.split()\n",
    "        list1.append(int(val1))\n",
    "        list2.append(int(val2))\n",
    "\n",
    "list1.sort() # Time complexity O(nlogn)\n",
    "list2.sort() # Time complexity O(nlogn)\n",
    "\n",
    "output = 0   # Space complexity O(1)\n",
    "for _, (num1, num2) in enumerate(zip(list1, list2)):  # Time complexity O(n)\n",
    "    output += abs(num2 - num1)\n",
    "print(output)"
   ]
  },
  {
   "cell_type": "markdown",
   "metadata": {},
   "source": [
    "### Part 2"
   ]
  },
  {
   "cell_type": "code",
   "execution_count": null,
   "metadata": {},
   "outputs": [
    {
     "name": "stdout",
     "output_type": "stream",
     "text": [
      "21306195\n"
     ]
    }
   ],
   "source": [
    "dict1 = {}\n",
    "for num in list1:   # Time complexity O(n), Space Complexity O(n)\n",
    "    if num not in dict1.keys():\n",
    "        dict1[num] = 1\n",
    "    else:\n",
    "        dict1[num] += 1\n",
    "\n",
    "dict2 = {}\n",
    "for num in list2: # Time complexity O(n), Space Complexity O(n)\n",
    "    if num not in dict2.keys():\n",
    "        dict2[num] = 1\n",
    "    else:\n",
    "        dict2[num] += 1\n",
    "\n",
    "ss = 0\n",
    "for key in dict1.keys(): # Time complexity O(n)\n",
    "    if key in dict2.keys():\n",
    "        ss += key * dict1[key] * dict2[key]\n",
    "print(ss)\n"
   ]
  }
 ],
 "metadata": {
  "kernelspec": {
   "display_name": "base",
   "language": "python",
   "name": "python3"
  },
  "language_info": {
   "codemirror_mode": {
    "name": "ipython",
    "version": 3
   },
   "file_extension": ".py",
   "mimetype": "text/x-python",
   "name": "python",
   "nbconvert_exporter": "python",
   "pygments_lexer": "ipython3",
   "version": "3.9.7"
  }
 },
 "nbformat": 4,
 "nbformat_minor": 2
}
